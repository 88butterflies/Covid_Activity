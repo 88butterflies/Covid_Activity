{
  "nbformat": 4,
  "nbformat_minor": 0,
  "metadata": {
    "colab": {
      "name": "CovidActivityStudent2.ipynb",
      "provenance": [],
      "collapsed_sections": []
    },
    "kernelspec": {
      "name": "python3",
      "display_name": "Python 3"
    }
  },
  "cells": [
    {
      "cell_type": "markdown",
      "metadata": {
        "id": "E8LFt3SZfImY",
        "colab_type": "text"
      },
      "source": [
        "# **Welcome to this COVID19 modeling activity!**\n",
        "*    You will learn how to plot data as well as some techniques for analysing real \n",
        "data so you can use it to make predictions!\n",
        "\n",
        "\n",
        "*    Before Getting started run all the code cells below this one until you reach the next markdown cell (A markdown cell is one like this one that has normal looking text in it, not code). This will pull needed files from github, move you into the directory you need to be in, and import libraries you will need to use."
      ]
    },
    {
      "cell_type": "code",
      "metadata": {
        "id": "1t85AbOdHM0M",
        "colab_type": "code",
        "outputId": "20a18fa8-229b-4b5a-c257-6e0f334fe003",
        "colab": {
          "base_uri": "https://localhost:8080/",
          "height": 148
        }
      },
      "source": [
        "# run this only once!\n",
        "!git clone https://github.com/88butterflies/Covid_Activity.git\n",
        "%cd Covid_Activity"
      ],
      "execution_count": 0,
      "outputs": [
        {
          "output_type": "stream",
          "text": [
            "Cloning into 'Covid_Activity'...\n",
            "remote: Enumerating objects: 32, done.\u001b[K\n",
            "remote: Counting objects: 100% (32/32), done.\u001b[K\n",
            "remote: Compressing objects: 100% (29/29), done.\u001b[K\n",
            "remote: Total 32 (delta 12), reused 3 (delta 1), pack-reused 0\u001b[K\n",
            "Unpacking objects: 100% (32/32), done.\n",
            "/content/Covid_Activity\n"
          ],
          "name": "stdout"
        }
      ]
    },
    {
      "cell_type": "code",
      "metadata": {
        "id": "U9QY-STCHgDW",
        "colab_type": "code",
        "colab": {}
      },
      "source": [
        "import numpy as np\n",
        "from matplotlib import pyplot as plt\n",
        "from scipy import signal as s"
      ],
      "execution_count": 0,
      "outputs": []
    },
    {
      "cell_type": "markdown",
      "metadata": {
        "id": "rXmheDyfRWjR",
        "colab_type": "text"
      },
      "source": [
        "### **This is a markdown cell !!**\n",
        "*    ## **Variables**\n",
        "If we want to do anything with our data file we are going to need to read it into our program and store it in variables. Remember that we assign a variable, a, for example, byt running a line of code like\n",
        "\n",
        "a = 3.1\n",
        "\n",
        "this will store the number 3.1 in the variable a.\n",
        "\n",
        "*    ## **Data types**\n",
        "Variables store data, but many different types of data can be stores in variables, for example you can store numbers, or sets or charactars, or images (we did this in the microbit activity), or lists (also used in the microbit activity).  Numbers can even be represented in different ways, but the way type we will be using is a type that can accept decimals, and that's called a float. Writing a = 3.1 assignes a to be 3.0 and 3.0 is fo type float.  If we assign \n",
        "\n",
        "a = 'some text'\n",
        "\n",
        "then a will be of type string, which is the same we use for data that is a set of characters.  a = '3.1' would also be a string.\n",
        "\n",
        "*    ## **Python can do your math for you**\n",
        "If you type a = 3*(5 -2), then a will be 9.\n",
        "\n",
        "For multiplication we use *\n",
        "For division use /\n",
        "For adition/subtraction use + and - respectively\n",
        "For raising to a power use **\n",
        "Use parentheses in the normal way to indicate order of opperations\n",
        "\n",
        "*    ## **Make python show you what is stored in a variable**\n",
        "You can\n",
        "    *    Write a line with just the variable at the bottom of your cell and run it, it will then show you what the variable is\n",
        "    *    Print the variable: that means use the function print(). So if a = 3.1 and you type print(a) and run it, python will return 3.1  .\n",
        "\n",
        "*    ## **Python can do complicated things with functions**\n",
        "print() is a function. All functions have parenthesies after them. They take the things written in the parentheses (these are called arguments) and do something with them. Print is a function that takes only 1 argument and makes python show it (whatever is stored in it or whatever it evaluates to) to you.\n",
        "Try writing print(3*(5-2))  what will python give you?\n"
      ]
    },
    {
      "cell_type": "code",
      "metadata": {
        "id": "bYy8cZz4WxwJ",
        "colab_type": "code",
        "colab": {}
      },
      "source": [
        "# Try assigning some variables, doing some arythmetic, and printing some things here\n",
        "# What happens if you assign a variable then assign another thing to it and print it?\n",
        "\n",
        "\n",
        "\n",
        "\n",
        "\n"
      ],
      "execution_count": 0,
      "outputs": []
    },
    {
      "cell_type": "markdown",
      "metadata": {
        "id": "8Oud_ayLXCAg",
        "colab_type": "text"
      },
      "source": [
        "## **Arrays**\n",
        "*    **What is an array?**\n",
        "An array is a fancy type of list. It allows us to store a set data in a variable.  If you know what a matrix is I think thinking of arrays as matraces is a very good idea, but if you don't just think of it as storing a set of data. For example if instead of wanting to store 3.1, I wanted sto store the number of COVID cases each day, then I would need to store a whole set of numbers.  I can do that in an array.\n",
        "\n",
        "*    **How do I create an array?**\n",
        "There are many ways to create an array, but in general when working with arrays we will want functions from the numpy library. All of those functions start with np in order to tell python to look for the function in the numpy library. Try these two functions:\n",
        "    *    np.array()  note that the argument of this function must be a list, so if I want to make an array of the data set 3.1, 5.2, -87.9, using np.array(), I will type np.array([3.1, 5.2, -87.9]) and if I want to store that array in a variable called arr, I will type \n",
        "\n",
        "arr = np.array([3.1, 5.2, -87.9])\n",
        "    *    np.arange()  this function takes an intiger number as an argument and creates an array of whole numbers starying at 0 and going up to the number before the one you put in.  So if I want to store the data set 0, 1, 2, 3, 4  in the variable data, I would type \n",
        "\n",
        "data = np.arange(5)\n",
        "\n",
        "try creating and printing these.\n",
        "\n",
        "*    **Opperations act on every element in the array (data set)**\n",
        "What do you think I will get if I print \n",
        "\n",
        "1+ np.array([3.1, 5.2, -87.9])?\n",
        "\n",
        "what about\n",
        "1+arr\n",
        "\n",
        "or \n",
        "2*arr\n",
        "\n",
        "*    **Acessing an element in an array -- Indexing**\n",
        "If I have \n",
        "arr = np.array([3.1, 5.2, -87.9])\n",
        "and I want to access one of the numbers in it can take part of the array by doing what is called indexing. Try printing arr[0] and arr[1] and arr[2].\n",
        "The square brackets tell python you only want that element number. Careful though, Python starts counting from 0!  \n",
        "\n",
        ": means everything.  try arr[:]\n",
        "\n",
        "*    **2D arrays**\n",
        "The arrays we saw so far are one set of numbers. But what if I want to store 2 sets of numbers? Like xdata and ydata? Then I can put 2 data sets in my array and my array now has 2 dimentions, that is it will have rows and columns. We can create an array where one data set is 3.1, 5.2, -87.9, and the other data set is 65.76, -48.3, 0.832 like this:\n",
        "arr = np.array([[3.1, 5.2, -87.9], [65.76, -48.3, 0.832]])\n",
        "\n",
        "Now, if we will need a coordinate to access an element, and, for example we will access 5.2 which is in column number 1 (starting from 0) and row number 0 with arr[0,1]\n",
        "\n",
        "So we can take column number 2 for example with the index [:, 2]  and row number 1 with the index [1,:]\n"
      ]
    },
    {
      "cell_type": "code",
      "metadata": {
        "id": "INNl4ulBaF77",
        "colab_type": "code",
        "outputId": "ff4e7267-68df-4c49-c844-0c27d6b61335",
        "colab": {
          "base_uri": "https://localhost:8080/",
          "height": 36
        }
      },
      "source": [
        "# Explore arrays in this cell\n",
        "\n",
        "\n"
      ],
      "execution_count": 0,
      "outputs": [
        {
          "output_type": "execute_result",
          "data": {
            "text/plain": [
              "5.2"
            ]
          },
          "metadata": {
            "tags": []
          },
          "execution_count": 8
        }
      ]
    },
    {
      "cell_type": "markdown",
      "metadata": {
        "id": "iZrp5z3_aJrr",
        "colab_type": "text"
      },
      "source": [
        "# **Plotting**\n",
        "\n",
        "*    **Plot using plt.plot()**\n",
        "This is a function. The plt in the beginning tells python to look in the pyplot library named we named plt . The function is called plot. It takes an array of x data and an arrray of y data and plots the y data on the y axis and the x data on the x axis.  I will explain to you how to use the plot function and some extras.\n",
        "\n",
        "*    **Finishing your graph**\n",
        "There are functions plt.xlabel() and plt.ylabel() and plt.title() which all take strings as arguments and will let you create axis labels and a title.\n",
        "\n",
        "*    **If you want a legend you will need to label lines by putting in the keyword argument label = 'name for my curve', and then using the empty argument function plt.legend()\n",
        "\n",
        "*    **Your plot might not show up right if you don't run the function plt.show(), which doesn't take any arguments, after the lines with plt.plot and any other functions setting up plot features.\n",
        "\n",
        "*    **Extra written tutorial/notes**\n",
        "For a little bit longer (but still short and clear) tutorial on plotting options you can check out this link: https://matplotlib.org/tutorials/introductory/pyplot.html\n",
        "\n",
        "\n",
        "**We will now create a plot of a line and of an exponential**\n",
        "\n",
        "Hint:  ther is a function np.exp()  which takes the exponential of each element in an array"
      ]
    },
    {
      "cell_type": "code",
      "metadata": {
        "id": "CGe_Aq7IaJP2",
        "colab_type": "code",
        "colab": {}
      },
      "source": [
        "# make you plots here\n",
        "\n",
        "\n",
        "\n",
        "\n",
        "\n",
        "\n"
      ],
      "execution_count": 0,
      "outputs": []
    },
    {
      "cell_type": "markdown",
      "metadata": {
        "id": "lYFjSsZyhgfw",
        "colab_type": "text"
      },
      "source": [
        "## **Now comes the fun part!  We are going to use actual real data to plot the number of cases of COVID19 as a function of the number of days since January the 23rd**\n",
        "\n",
        "To do that we will\n",
        "\n",
        "*    1) Read the data in as one big array of strings\n",
        "*    2) Use indexing to take only the colums we want and convert them to floats\n",
        "*    3) Use pyplot to plot the number of case array for each country as a function of the number of days array\n",
        "\n",
        "## For 1 you will use the function np.loadtxt() which reads in a csv file. I will help you with steps 1 and 2 as we haven't read in any data before, but I think you can do step 3 and be proud of it!\n"
      ]
    },
    {
      "cell_type": "code",
      "metadata": {
        "id": "E5k2QlG-HzRY",
        "colab_type": "code",
        "colab": {}
      },
      "source": [
        "# reading in the csv file\n",
        "\n"
      ],
      "execution_count": 0,
      "outputs": []
    },
    {
      "cell_type": "code",
      "metadata": {
        "id": "nPgktz0jo94x",
        "colab_type": "code",
        "colab": {}
      },
      "source": [
        "# separating the colums\n",
        "\n",
        "\n",
        "\n"
      ],
      "execution_count": 0,
      "outputs": []
    },
    {
      "cell_type": "code",
      "metadata": {
        "id": "e8bjbL9yjXVG",
        "colab_type": "code",
        "colab": {}
      },
      "source": [
        "# Make the plot \n",
        "\n",
        "# Note, you might want to make one zoomed in on \n",
        "\n",
        "\n",
        "\n",
        "\n",
        "\n",
        "\n",
        "\n"
      ],
      "execution_count": 0,
      "outputs": []
    },
    {
      "cell_type": "markdown",
      "metadata": {
        "id": "dr2gXcN4hvwm",
        "colab_type": "text"
      },
      "source": [
        "## **How do we know fron this graph when COVID is over?**\n",
        "When the epidemic is over in an area, there will be no more, or very very few new cases.  And if there are no new cases the number of cases will stay the same, so the pandemic will be over when the curves here for all of the countries have levelled off."
      ]
    },
    {
      "cell_type": "markdown",
      "metadata": {
        "id": "3UvRfAxQmFq4",
        "colab_type": "text"
      },
      "source": [
        "## **Why is self isolation so important to get the plots to level off?**\n",
        "*    These curves all have the shape of an exponential, and exponentials grow really REALLY fast!  \n",
        "\n",
        "*    We can also see the growth is exponential with this thought process:\n",
        "Imagine 1 person has it but doesn't know it yet (for covid you can have it and not know it for 2 weeks!). Suppose they see lots of people, but say only 2 people they see catch it. Then those 2 people each give it to 2 people before they realize they were sick...  We end up with something like this\n",
        "\n",
        "(well this is for cell division, but the same thing is happening...)\n",
        "\n",
        "![alt text](https://images.slideplayer.com/26/8479671/slides/slide_13.jpg)"
      ]
    },
    {
      "cell_type": "markdown",
      "metadata": {
        "id": "UAJnlammnYJ5",
        "colab_type": "text"
      },
      "source": [
        "# **So stay home, stay safe, and... learn to code!**"
      ]
    },
    {
      "cell_type": "code",
      "metadata": {
        "id": "LAG3HRU_ncxo",
        "colab_type": "code",
        "colab": {}
      },
      "source": [
        ""
      ],
      "execution_count": 0,
      "outputs": []
    }
  ]
}