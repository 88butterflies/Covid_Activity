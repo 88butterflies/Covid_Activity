{
  "nbformat": 4,
  "nbformat_minor": 0,
  "metadata": {
    "colab": {
      "name": "CovidActivityStudent.ipynb",
      "provenance": [],
      "collapsed_sections": []
    },
    "kernelspec": {
      "name": "python3",
      "display_name": "Python 3"
    }
  },
  "cells": [
    {
      "cell_type": "markdown",
      "metadata": {
        "id": "E8LFt3SZfImY",
        "colab_type": "text"
      },
      "source": [
        "# **Welcome to this COVID19 modeling activity!**\n",
        "*    You will learn how to plot data as well as some techniques for analysing real \n",
        "data so you can use it to make predictions!\n",
        "\n",
        "\n",
        "*    Before Getting started run all the code cells below this one until you reach the next markdown cell (A markdown cell is one like this one that has normal looking text in it, not code). This will pull needed files from github, move you into the directory you need to be in, and import libraries you will need to use."
      ]
    },
    {
      "cell_type": "code",
      "metadata": {
        "id": "1t85AbOdHM0M",
        "colab_type": "code",
        "outputId": "66728d59-4666-4470-bded-c5bdb09c03c3",
        "colab": {
          "base_uri": "https://localhost:8080/",
          "height": 36
        }
      },
      "source": [
        "# run this only once!\n",
        "!git clone https://github.com/88butterflies/Covid_Activity.git\n",
        "%cd Covid_Activity"
      ],
      "execution_count": 1,
      "outputs": [
        {
          "output_type": "stream",
          "text": [
            "/content\n"
          ],
          "name": "stdout"
        }
      ]
    },
    {
      "cell_type": "code",
      "metadata": {
        "id": "U9QY-STCHgDW",
        "colab_type": "code",
        "colab": {}
      },
      "source": [
        "import numpy as np\n",
        "from matplotlib import pyplot as plt\n",
        "from scipy import signal as s"
      ],
      "execution_count": 0,
      "outputs": []
    },
    {
      "cell_type": "code",
      "metadata": {
        "id": "E5k2QlG-HzRY",
        "colab_type": "code",
        "colab": {}
      },
      "source": [
        "# reading in the csv file\n",
        "all_data = np.loadtxt(\"ActivityData_april4.csv\", comments='#', delimiter=\",\", dtype=str)\n",
        "\n",
        "#separating the columns\n",
        "time = all_data[:,0].astype('float64')\n",
        "italy = all_data[:,1].astype('float64')\n",
        "italy_rate = all_data[:,2].astype('float64')\n",
        "france = all_data[:,3].astype('float64')\n",
        "france_rate = all_data[:,4].astype('float64')\n",
        "england = all_data[:,5].astype('float64')\n",
        "england_rate = all_data[:,6].astype('float64')\n",
        "hubei = all_data[:,7].astype('float64')\n",
        "hubei_rate = all_data[:,8].astype('float64')\n",
        "southkorea = all_data[:,9].astype('float64')\n",
        "southkorea_rate = all_data[:,10].astype('float64')\n",
        "usa = all_data[:,11].astype('float64')\n",
        "usa_rate = all_data[:,12].astype('float64')\n",
        "bc = all_data[:,13].astype('float64')\n",
        "bc_rate = all_data[:,14].astype('float64')"
      ],
      "execution_count": 0,
      "outputs": []
    },
    {
      "cell_type": "markdown",
      "metadata": {
        "id": "dr2gXcN4hvwm",
        "colab_type": "text"
      },
      "source": [
        "**This is a markdown cell!!**\n",
        "\n",
        "## Now that we have all the data we need in a nice useable form, we can actually start using it!\n",
        "\n",
        "*    The first thing that we are going to do is make a plot of the number of cases in each country as a function of time. We can make plots using the function plt.plot()  .\n",
        "\n",
        "*  The plt in the beginning tells python to look in the pyplot library named we named plt .  The function is called plot. All functions have parenthesies after them. They take the things written in the parentheses (these are called arguments) and do something with them. For example the plot function will take data for x-values and data for y-values in the pqrentheses, and give back a plot.  When a function takes several arguments, like both x-data and y-data, then you need to put commas between the arguments inside the parentheses\n",
        "\n",
        "*    There are also a few extras you can use to make the plot a little nicer, for example functions that create a legend, a title, axis labels etc, and arguments that choose the color of a line on the plot, label the line...  I will mention a few that might be useful. For a little bit longer (but still short and clear) tutorial on plotting options you can check out this link: https://matplotlib.org/tutorials/introductory/pyplot.html "
      ]
    },
    {
      "cell_type": "code",
      "metadata": {
        "id": "BbPtycSplvTI",
        "colab_type": "code",
        "colab": {}
      },
      "source": [
        "# Write a code in this cell to create your plot!\n",
        "\n",
        "\n",
        "\n",
        "\n"
      ],
      "execution_count": 0,
      "outputs": []
    },
    {
      "cell_type": "markdown",
      "metadata": {
        "id": "PvWXcSUgy9pn",
        "colab_type": "text"
      },
      "source": [
        "## **What does this graph tell us?**\n",
        "\n",
        "*    Some of the lines go much higher than others, but all of them climb a little, or a lot, and level off (though some haven't levelled off yet). Levelling off is when the curve stops going up and becomes constant. This is what people mean when they talk about flattening the curve.\n",
        "\n",
        "*    We know all the curves must level off one day because the number of cases cannot become infinite. We definitely know there can't be more cases than there are people on earth! And that's a very big number but it's not infinite.  So if everyone on the planet got COVID then after that, the number of cases would stop going up and stay constant. \n",
        "\n",
        "*   But I certainly hope most people on the planet **won't** get COVID!!!! So how can we predict when the curve will start levelling off?  We will be able to do this based on the shape of the curve in the parts where it is going up.\n",
        "\n",
        "\n",
        "## **What do we need for the curve to start flattening?**\n",
        "\n",
        "*    We need the growth to get slower. In other words the slope to get less steap. That means the growth rate needs to go down. \n",
        "\n",
        "\n",
        "*    We can calculate the growth rate from the number of cases per day data:\n",
        "\n",
        "\n",
        "\n",
        "![alt text](https://encrypted-tbn0.gstatic.com/images?q=tbn%3AANd9GcQkOoAOx9VVYtYrKv_b9FHY18QZ6jR5X893cikQWOcYiSInSBPL&usqp=CAU)\n",
        "\n",
        "Using this formula, the growth rate per day (per day -> x2-x1 = 1 since our time units are days) is just y2-y1 which is the number of *new* cases each day.\n",
        "\n",
        "*    I have actually already done this for you though since we haven't really learned about array opperations and indexing.  You will see we have arrays for the rates of each country. \n",
        "\n",
        "*    Your job now is to plot the growth rate as a function of time (not eyou can just copy past from your last plot and change all the country name variables to the corresponing ones _rate. For example:\n",
        "plt.plot(time, italy, label = 'Italy')   ->    plt.plot(time, italy_rate, label = 'Italy')"
      ]
    },
    {
      "cell_type": "code",
      "metadata": {
        "id": "lE2Ah9Ix5Zow",
        "colab_type": "code",
        "colab": {}
      },
      "source": [
        "#   Your plot here\n",
        "\n",
        "\n",
        "\n",
        "\n"
      ],
      "execution_count": 0,
      "outputs": []
    },
    {
      "cell_type": "markdown",
      "metadata": {
        "id": "w9ik-tB_m1aY",
        "colab_type": "text"
      },
      "source": [
        "##  **Did you notice that in the section where they are going up all these curves have a similar shape?**\n",
        "\n",
        "*    This shape is called an exponential (the function obtained by raising a constand to the power of whatever your variable is; for example: 2^x, or 10^x, or e^x).\n",
        "\n",
        "*    Any kind of population that doesn't have something slowing it's growth grows with this shape. You can think of it like this: you start with 2=2^1animals at time=1, by time=2 they have had 2 babies so now you have 4=2^2 animals, at time=3 those babies have each had 2 babies so now you have 4+2+2=8=2^3 animals, at time t=4 each of the 2+2=4 babies from last time have had babies 2 babies each, so now you have 8+2+2+2+2 = 16 = 2^4 animals.  Thus at some time t, you have 2^t animals: exponential growth over time!\n",
        "![alt text](https://images.slideplayer.com/26/8479671/slides/slide_13.jpg)\n",
        "\n",
        "*    The COVID virus spreads exponentially because of it4s incubation time (the time you are contageous before you know you are sick). This means that before you know you are sick you might have given it to 2 other people, and before they know they are sick each of them might have given it to another 2 people... I think you see where I am going with this!\n",
        "\n",
        "*    Of course the model can be generalized a little. What if the average couple doesn't have 2 kids but some other number? This can be taken into account by multiplying by some factor in the exponential. for exa;ple if the variable you are taking the exponential of is x and the factor you need for your population is 0.9, then you would take the exponential of 0.9*x.  This doesn4t change the overal shape of the exponential cuvre.\n",
        "\n",
        "## In order to see the exponential shape and check we can get the shapes from our previous plots by using a factor in the exponential we are going to plot an exponential of x and an exponential of a factor times x.\n",
        "\n",
        "\n",
        "*    Some hints for plotting: \n",
        "      *     You can choose the factor to be whatever you want and your plot will still an exponential, but I recommend something very close to 1 (like 0.9) if you want to see it nicely on the same graph as your exponential of x.\n",
        "      *     There is a function np.arange() which takes a number as an argument and will give you back an array with elements that are nummbers counting sequentially up from 0 to the number you put in.\n",
        "      *    There is a function np.exp() which takes in an array for an argument and gives you back an array with the exponential function (e^x) applied to each element"
      ]
    },
    {
      "cell_type": "code",
      "metadata": {
        "id": "ejBM0rIOv9hU",
        "colab_type": "code",
        "colab": {}
      },
      "source": [
        "# Plot your exponential here\n",
        "\n",
        "\n",
        "\n",
        "\n",
        "\n",
        "\n"
      ],
      "execution_count": 0,
      "outputs": []
    },
    {
      "cell_type": "markdown",
      "metadata": {
        "id": "w1zrB0zw8Hpc",
        "colab_type": "text"
      },
      "source": [
        "##  Doesn't this look a terribly lot like the shape of the shape of our  initial number of cases as a function of time graph?  How can both the number of cases and the slope of the number of cases/ growth rate have the same shape?\n",
        "\n",
        "*    This is something very special about exponentials! In fact, a function and it's growth rate being proportional is sometimes even taken as the definition of the exponential function! (Another way of writing this, for those of you that know some calculus is that if y(t) is an exponential, then \n",
        "dy/dt = constant*y  \n",
        "(you can see this from the fact that the derivative of e^x = e^x.)\n",
        "\n",
        "*    Since the growth rate and the number of cases are both exponential, we can only shift by constants, either multiplying by a constant factor or adding a constant term. This means we have an equation of the form \n",
        "\n",
        "growth rate = constant_1 * number of cases + constant_2\n",
        "\n",
        "*    This is a function for growth rate though!!! This means we can plot it and see when it starts to go down! Then we will know that the curve is starting to flatten!\n",
        "\n",
        "*    One more thing though: Do you recognize this equation? What shape do you expect it to be?\n",
        "\n",
        "\n",
        "*    If you said a line you might want to try plotting it. This was a tricky question!  It is stating that the growth rate is linear as a function of the number of cases. But the plot of growth rate as  a function of number of cases will not be linear.  Again, if this is confusing try plotting it!!!!\n",
        "\n",
        "*    This is not a line because the number of cases themselves aren't linear but exponential. In other words what we really have is something like\n",
        "\n",
        "growth rate = const_1*e^x + const_2\n",
        "\n",
        "*  If you tried plotting growth rate as a function of number of cases you would have seen that it is a little difficult to see exactly when it starts going down.  But if we can make this linear it will be really easy to see when a country4s curve deveates from the line and starts dropping down.  We can do this with just a little algebra:\n",
        "![alt text](https://slideplayer.com/slide/6260500/21/images/6/Linearizing+Exponential+Functions%3A.jpg) \n",
        "\n",
        "## **In conclusion, if we plot ln(growth rate) as a function of ln(number of cases) we will get a linear plot which will take a turn down whn the curve begins to flatten. So let's make that plot!!**\n",
        "\n",
        "*    Hint: you can use the function np.log() which gives the natural logarythm, that is ln, of it's argument\n",
        "     "
      ]
    },
    {
      "cell_type": "code",
      "metadata": {
        "id": "Ht7PIWIMGveD",
        "colab_type": "code",
        "colab": {}
      },
      "source": [
        "#  Your plot of ln(growth rate) as a function of ln(number of cases)\n",
        "\n",
        "\n",
        "\n",
        "\n",
        "\n",
        "\n",
        "\n",
        "\n",
        "\n"
      ],
      "execution_count": 0,
      "outputs": []
    },
    {
      "cell_type": "markdown",
      "metadata": {
        "id": "Vvy4f9uRIGc8",
        "colab_type": "text"
      },
      "source": [
        "##  Granted this graph could be a lot smoother if we did some more math on it (including a least quare fit for the linear part) but it is already astounding to see how well it agrees with what we are hearing for predictions on the news!!!!!\n",
        "\n",
        "*  Hubei was the first hit, it grew very fast because it didn4t know what the virus was or what to do at first, it did take very strong measures however even tracking all the contacts of people who had the virus, and you see it's growth rate plummet!\n",
        "\n",
        "*    South Korea was also a country that was hit hard but took extreme measures and we see it dive down too!\n",
        "\n",
        "*    With a little imagination it looks like Italy might be about to head down too, corresponding with the phrase going around that all of it's drastic social distancing policies are finally helping it turn the corner\n",
        "\n",
        "*    The USA that didn4t want to take measures early on is still growing faster and faster!\n",
        "\n",
        "*    And finally, BC, which isn4t very hard it, but which took some measures early, but not as drastic ones as some other countries looks like it is taking a dip too!  This could be the affect of the policies inacted a few weeks ago. Even so, the crisis isn't over, the growth rate is still positive, so we are still getting more cases not less, but it looks like the rate at which we are getting more cases is dropping: the curve is getting a little flatter!\n",
        "\n",
        "##  Let's end on that optimistic note.  Stay safe and keep up the good social distancing work guys!"
      ]
    },
    {
      "cell_type": "code",
      "metadata": {
        "id": "wjygUU3vS-Z_",
        "colab_type": "code",
        "colab": {}
      },
      "source": [
        ""
      ],
      "execution_count": 0,
      "outputs": []
    }
  ]
}